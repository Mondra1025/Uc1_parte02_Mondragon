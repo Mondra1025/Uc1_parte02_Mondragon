{
 "cells": [
  {
   "cell_type": "code",
   "execution_count": null,
   "metadata": {},
   "outputs": [],
   "source": [
    "entrada = float(input(\"Ingrese el valor de la donación que desea hacer: \"))\n",
    "monto_donacion = 0\n",
    "if 0 <= entrada <= 1000:\n",
    "    monto_donacion = entrada * 0.05\n",
    "elif 1000 < entrada <= 1500:\n",
    "    monto_donacion = entrada * 0.7\n",
    "elif 1500 < entrada <= 2000:\n",
    "    monto_donacion = entrada * 0.08\n",
    "elif 2000 < entrada <= 5000:\n",
    "    monto_donacion = entrada * 0.1\n",
    "elif 5000 < entrada:\n",
    "    monto_donacion = entrada * 0.15\n",
    "print(f\"Pablito debe donar: ${monto_donacion:.2f}\")\n"
   ]
  }
 ],
 "metadata": {
  "language_info": {
   "name": "python"
  },
  "orig_nbformat": 4
 },
 "nbformat": 4,
 "nbformat_minor": 2
}
