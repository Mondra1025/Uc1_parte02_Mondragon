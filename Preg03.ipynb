{
 "cells": [
  {
   "cell_type": "code",
   "execution_count": null,
   "metadata": {},
   "outputs": [],
   "source": [
    "numero_horas=int(input(\"Ingrese el numero de horas del cliente: \"))\n",
    "costo4phoras= 6\n",
    "costo_adicional= 2\n",
    "total=0\n",
    "if numero_horas>0 and numero_horas<=4:\n",
    "  print(f\"Importe a pagar es : {costo4phoras}\")\n",
    "elif numero_horas>0 and numero_horas>4:\n",
    "  total=costo4phoras + (costo_adicional*(numero_horas-4))\n",
    "  print(f\"Importe a pagar es s/.: {total}\")\n",
    "else:\n",
    "  print(\"Numero de horas no valido\")"
   ]
  }
 ],
 "metadata": {
  "language_info": {
   "name": "python"
  },
  "orig_nbformat": 4
 },
 "nbformat": 4,
 "nbformat_minor": 2
}
