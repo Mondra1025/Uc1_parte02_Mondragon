{
 "cells": [
  {
   "cell_type": "code",
   "execution_count": null,
   "metadata": {},
   "outputs": [],
   "source": [
    "a=input(\"A: \")\n",
    "b=input(\"B: \")\n",
    "\n",
    "a,b=b,a\n",
    "print(f\"A= {a}\")\n",
    "print(f\"B= {b}\")"
   ]
  }
 ],
 "metadata": {
  "language_info": {
   "name": "python"
  },
  "orig_nbformat": 4
 },
 "nbformat": 4,
 "nbformat_minor": 2
}
